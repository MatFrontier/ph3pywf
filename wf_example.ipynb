{
 "cells": [
  {
   "cell_type": "code",
   "execution_count": 1,
   "id": "documented-status",
   "metadata": {},
   "outputs": [
    {
     "name": "stdout",
     "output_type": "stream",
     "text": [
      "successfully loaded your custom FW_config.yaml!\n"
     ]
    },
    {
     "name": "stderr",
     "output_type": "stream",
     "text": [
      "/opt/conda/lib/python3.8/site-packages/maggma/utils.py:20: TqdmExperimentalWarning: Using `tqdm.autonotebook.tqdm` in notebook mode. Use `tqdm.tqdm` instead to force console mode (e.g. in jupyter console)\n",
      "  from tqdm.autonotebook import tqdm\n"
     ]
    }
   ],
   "source": [
    "import numpy as np\n",
    "from pymatgen.ext.matproj import MPRester\n",
    "from pymatgen.core import Structure\n",
    "from fireworks import LaunchPad\n",
    "import os\n",
    "from atomate.vasp.powerups import add_modify_incar, add_modify_potcar, add_tags\n",
    "from ph3pywf.workflows.core import wf_phono3py\n",
    "from ph3pywf.workflows.core import wf_disp_from_optimized"
   ]
  },
  {
   "cell_type": "markdown",
   "id": "pretty-respondent",
   "metadata": {},
   "source": [
    "# Full phono3py workflow\n",
    "see below"
   ]
  },
  {
   "cell_type": "code",
   "execution_count": null,
   "id": "valid-dimension",
   "metadata": {},
   "outputs": [],
   "source": [
    "### Running conditions ##############################################\n",
    "material_id = \"mp-2574\" # Material id to be searched on MP\n",
    "supercell_size = (2,2,2)\n",
    "\n",
    "### Get working dir #################################################\n",
    "working_dir = os.getcwd()\n",
    "\n",
    "### Get materials structure #########################################\n",
    "## If no local structure file, get from MP and save unitcell\n",
    "## structure as \"struct_unitcell.json\"\n",
    "if \"struct_unitcell.json\" in os.listdir(working_dir):\n",
    "    print(\"Found local structure file\")\n",
    "    ## Read saved local structure file\n",
    "    struct_unitcell = Structure.from_file(\"struct_unitcell.json\")\n",
    "\n",
    "else:\n",
    "    print(\"Getting structure from MaterialsProject\")\n",
    "    # api_key = ''\n",
    "    with MPRester() as mpr:\n",
    "        struct_unitcell = mpr.get_structure_by_material_id(material_id)\n",
    "\n",
    "    ## Save a local structure file to avoid accessing MP every time\n",
    "    with open(\"struct_unitcell.json\", \"w\") as fh:\n",
    "        fh.write(struct_unitcell.to_json())\n",
    "\n",
    "### Create the workflow #############################################\n",
    "c = {\"supercell_size\": supercell_size, \n",
    "     \"cutoff_pair_distance\": 5.0, \n",
    "    }\n",
    "\n",
    "print(\"Creating workflow...\")\n",
    "workflow = wf_phono3py(structure=struct_unitcell, \n",
    "                       c=c,\n",
    "                      )\n",
    "print(\"Created workflow\")\n",
    "\n",
    "### Add Powerups ####################################################\n",
    "modify_incar_params = {'incar_update': {'ENCUT': 520,\n",
    "                                        'ALGO': 'Normal'}}\n",
    "\n",
    "modify_potcar_params = {'potcar_symbols': {\n",
    "    'Zr': 'Zr_sv'}, 'functional': 'PBE_54'}\n",
    "# modify incar\n",
    "workflow = add_modify_incar(workflow, modify_incar_params=modify_incar_params)\n",
    "\n",
    "# modify potcar\n",
    "workflow = add_modify_potcar(workflow, modify_potcar_params=modify_potcar_params)\n",
    "\n",
    "# # add tags\n",
    "# workflow = add_tags(workflow, [\"test\"])\n",
    "\n",
    "\n",
    "### Create the launchpad and add our workflow #######################\n",
    "print(\"Sending to LaunchPad...\")\n",
    "launchpad = LaunchPad.auto_load()\n",
    "launchpad.add_wf(workflow)\n",
    "print(\"Sent to LaunchPad\")"
   ]
  },
  {
   "cell_type": "markdown",
   "id": "extraordinary-saver",
   "metadata": {},
   "source": [
    "# Testing workflow using existing optimized structure\n",
    "see below"
   ]
  },
  {
   "cell_type": "code",
   "execution_count": 3,
   "id": "located-gibson",
   "metadata": {},
   "outputs": [
    {
     "name": "stdout",
     "output_type": "stream",
     "text": [
      "Found local structure file\n",
      "Creating workflow...\n",
      "Created workflow\n",
      "Sending to LaunchPad...\n",
      "2021-05-24 03:53:23,193 INFO Added a workflow. id_map: {-2: 694}\n",
      "Sent to LaunchPad\n"
     ]
    }
   ],
   "source": [
    "### Running conditions ##############################################\n",
    "material_id = \"mp-2574\" # Material id to be searched on MP\n",
    "supercell_size = (2,2,2)\n",
    "\n",
    "### Get working dir #################################################\n",
    "working_dir = os.getcwd()\n",
    "# db_file = os.path.join(working_dir, \"db.json\")\n",
    "\n",
    "### Get materials structure #########################################\n",
    "## If no local structure file, get from MP and save unitcell\n",
    "## structure as \"struct_unitcell.json\"\n",
    "if \"struct_unitcell.json\" in os.listdir(working_dir):\n",
    "    print(\"Found local structure file\")\n",
    "    ## Read saved local structure file\n",
    "    struct_unitcell = Structure.from_file(\"struct_unitcell.json\")\n",
    "\n",
    "else:\n",
    "    print(\"Getting structure from MaterialsProject\")\n",
    "    # api_key = ''\n",
    "    with MPRester() as mpr:\n",
    "        struct_unitcell = mpr.get_structure_by_material_id(material_id)\n",
    "\n",
    "    ## Save a local structure file to avoid accessing MP every time\n",
    "    with open(\"struct_unitcell.json\", \"w\") as fh:\n",
    "        fh.write(struct_unitcell.to_json())\n",
    "\n",
    "### Create the workflow #############################################\n",
    "print(\"Creating workflow...\")\n",
    "workflow = wf_disp_from_optimized(structure=struct_unitcell, \n",
    "                                  supercell_size=supercell_size, \n",
    "                                 )\n",
    "print(\"Created workflow\")\n",
    "\n",
    "### Create the launchpad and add our workflow #######################\n",
    "print(\"Sending to LaunchPad...\")\n",
    "launchpad = LaunchPad.from_file(\"/home/jovyan/atomate/config/my_launchpad.yaml\")\n",
    "launchpad.add_wf(workflow)\n",
    "print(\"Sent to LaunchPad\")"
   ]
  }
 ],
 "metadata": {
  "kernelspec": {
   "display_name": "Python 3",
   "language": "python",
   "name": "python3"
  },
  "language_info": {
   "codemirror_mode": {
    "name": "ipython",
    "version": 3
   },
   "file_extension": ".py",
   "mimetype": "text/x-python",
   "name": "python",
   "nbconvert_exporter": "python",
   "pygments_lexer": "ipython3",
   "version": "3.8.8"
  }
 },
 "nbformat": 4,
 "nbformat_minor": 5
}
