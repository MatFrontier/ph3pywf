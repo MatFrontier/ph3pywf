{
 "cells": [
  {
   "cell_type": "code",
   "execution_count": 1,
   "id": "complete-rainbow",
   "metadata": {},
   "outputs": [
    {
     "name": "stdout",
     "output_type": "stream",
     "text": [
      "successfully loaded your custom FW_config.yaml!\n"
     ]
    },
    {
     "name": "stderr",
     "output_type": "stream",
     "text": [
      "/opt/conda/lib/python3.8/site-packages/maggma/utils.py:20: TqdmExperimentalWarning: Using `tqdm.autonotebook.tqdm` in notebook mode. Use `tqdm.tqdm` instead to force console mode (e.g. in jupyter console)\n",
      "  from tqdm.autonotebook import tqdm\n"
     ]
    }
   ],
   "source": [
    "import numpy as np\n",
    "from pymatgen.ext.matproj import MPRester\n",
    "from pymatgen.core import Structure\n",
    "from fireworks import LaunchPad\n",
    "import os\n",
    "from atomate.vasp.powerups import add_modify_incar, add_modify_potcar, add_tags\n",
    "from ph3pywf.workflows.core import wf_phono3py\n",
    "from ph3pywf.workflows.core import wf_disp_from_optimized"
   ]
  },
  {
   "cell_type": "markdown",
   "id": "express-desert",
   "metadata": {},
   "source": [
    "# Full phono3py workflow\n",
    "see below"
   ]
  },
  {
   "cell_type": "code",
   "execution_count": 2,
   "id": "conceptual-burke",
   "metadata": {},
   "outputs": [
    {
     "name": "stdout",
     "output_type": "stream",
     "text": [
      "Found local structure file\n",
      "Creating workflow...\n",
      "Created workflow\n",
      "Sending to LaunchPad...\n"
     ]
    },
    {
     "name": "stderr",
     "output_type": "stream",
     "text": [
      "/opt/conda/lib/python3.8/site-packages/pymatgen/io/vasp/sets.py:440: BadInputSetWarning: Overriding the POTCAR functional is generally not recommended  as it significantly affect the results of calculations and compatibility with other calculations done with the same input set. Note that some POTCAR symbols specified in the configuration file may not be available in the selected functional.\n",
      "  warnings.warn(\n",
      "/opt/conda/lib/python3.8/site-packages/pymatgen/io/vasp/sets.py:451: BadInputSetWarning: Overriding POTCARs is generally not recommended as it significantly affect the results of calculations and compatibility with other calculations done with the same input set. In many instances, it is better to write a subclass of a desired input set and override the POTCAR in the subclass to be explicit on the differences.\n",
      "  warnings.warn(\n"
     ]
    },
    {
     "name": "stdout",
     "output_type": "stream",
     "text": [
      "2021-05-26 04:58:04,975 INFO Added a workflow. id_map: {-2: 1806, -1: 1807}\n",
      "Sent to LaunchPad\n",
      ">>Done<<\n"
     ]
    }
   ],
   "source": [
    "####################\n",
    "# FULL PHONO3PY WF #\n",
    "####################\n",
    "### Running conditions ##############################################\n",
    "material_id = \"mp-2574\" # Material id to be searched on MP\n",
    "supercell_size = (2,2,2)\n",
    "cutoff_pair_distance = 5.0\n",
    "is_reduced_test = True\n",
    "\n",
    "### Get working dir #################################################\n",
    "working_dir = os.getcwd()\n",
    "\n",
    "### Get materials structure #########################################\n",
    "## If no local structure file, get from MP and save unitcell\n",
    "## structure as \"struct_unitcell.json\"\n",
    "if \"struct_unitcell.json\" in os.listdir(working_dir):\n",
    "    print(\"Found local structure file\")\n",
    "    ## Read saved local structure file\n",
    "    struct_unitcell = Structure.from_file(\"struct_unitcell.json\")\n",
    "\n",
    "else:\n",
    "    print(\"Getting structure from MaterialsProject\")\n",
    "    # api_key = ''\n",
    "    with MPRester() as mpr:\n",
    "        struct_unitcell = mpr.get_structure_by_material_id(material_id)\n",
    "\n",
    "    ## Save a local structure file to avoid accessing MP every time\n",
    "    with open(\"struct_unitcell.json\", \"w\") as fh:\n",
    "        fh.write(struct_unitcell.to_json())\n",
    "\n",
    "### Create the workflow #############################################\n",
    "c = {\"supercell_size\": supercell_size, \n",
    "     \"cutoff_pair_distance\": cutoff_pair_distance, \n",
    "     \"is_reduced_test\": is_reduced_test, \n",
    "     \"USER_INCAR_SETTINGS\": {'ENCUT': 520,\n",
    "                             'ALGO': 'Normal'\n",
    "                            },\n",
    "     \"USER_POTCAR_SETTINGS\": {'Zr': 'Zr_sv'},\n",
    "     \"USER_POTCAR_FUNCTIONAL\": \"PBE_54\",\n",
    "     \"metadata\": [\"test reduced phono3py wf\"]\n",
    "     }\n",
    "\n",
    "print(\"Creating workflow...\")\n",
    "workflow = wf_phono3py(structure=struct_unitcell, \n",
    "                       c=c,\n",
    "                      )\n",
    "print(\"Created workflow\")\n",
    "\n",
    "### Add Powerups ####################################################\n",
    "\n",
    "\n",
    "### Create the launchpad and add our workflow #######################\n",
    "print(\"Sending to LaunchPad...\")\n",
    "launchpad = LaunchPad.from_file(\"/home/jovyan/atomate/config/my_launchpad.yaml\")\n",
    "launchpad.add_wf(workflow)\n",
    "print(\"Sent to LaunchPad\")\n",
    "print(\">>Done<<\")"
   ]
  },
  {
   "cell_type": "markdown",
   "id": "abstract-present",
   "metadata": {},
   "source": [
    "# Testing workflow using existing optimized structure\n",
    "see below"
   ]
  },
  {
   "cell_type": "code",
   "execution_count": null,
   "id": "exceptional-directive",
   "metadata": {},
   "outputs": [],
   "source": [
    "### Running conditions ##############################################\n",
    "material_id = \"mp-2574\" # Material id to be searched on MP\n",
    "supercell_size = (2,2,2)\n",
    "\n",
    "### Get working dir #################################################\n",
    "working_dir = os.getcwd()\n",
    "# db_file = os.path.join(working_dir, \"db.json\")\n",
    "\n",
    "### Get materials structure #########################################\n",
    "## If no local structure file, get from MP and save unitcell\n",
    "## structure as \"struct_unitcell.json\"\n",
    "if \"struct_unitcell.json\" in os.listdir(working_dir):\n",
    "    print(\"Found local structure file\")\n",
    "    ## Read saved local structure file\n",
    "    struct_unitcell = Structure.from_file(\"struct_unitcell.json\")\n",
    "\n",
    "else:\n",
    "    print(\"Getting structure from MaterialsProject\")\n",
    "    # api_key = ''\n",
    "    with MPRester() as mpr:\n",
    "        struct_unitcell = mpr.get_structure_by_material_id(material_id)\n",
    "\n",
    "    ## Save a local structure file to avoid accessing MP every time\n",
    "    with open(\"struct_unitcell.json\", \"w\") as fh:\n",
    "        fh.write(struct_unitcell.to_json())\n",
    "\n",
    "### Create the workflow #############################################\n",
    "print(\"Creating workflow...\")\n",
    "workflow = wf_disp_from_optimized(structure=struct_unitcell, \n",
    "                                  supercell_size=supercell_size, \n",
    "                                 )\n",
    "print(\"Created workflow\")\n",
    "\n",
    "### Create the launchpad and add our workflow #######################\n",
    "print(\"Sending to LaunchPad...\")\n",
    "launchpad = LaunchPad.from_file(\"/home/jovyan/atomate/config/my_launchpad.yaml\")\n",
    "launchpad.add_wf(workflow)\n",
    "print(\"Sent to LaunchPad\")"
   ]
  }
 ],
 "metadata": {
  "kernelspec": {
   "display_name": "Python 3",
   "language": "python",
   "name": "python3"
  },
  "language_info": {
   "codemirror_mode": {
    "name": "ipython",
    "version": 3
   },
   "file_extension": ".py",
   "mimetype": "text/x-python",
   "name": "python",
   "nbconvert_exporter": "python",
   "pygments_lexer": "ipython3",
   "version": "3.8.8"
  }
 },
 "nbformat": 4,
 "nbformat_minor": 5
}
